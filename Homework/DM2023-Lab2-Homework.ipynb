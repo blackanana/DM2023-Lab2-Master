{
 "cells": [
  {
   "cell_type": "markdown",
   "metadata": {},
   "source": [
    "### Student Information\n",
    "Name: 黃苡溱\n",
    "\n",
    "Student ID: 112065534\n",
    "\n",
    "GitHub ID: blackanana\n",
    "\n",
    "Kaggle name: blackanana\n",
    "\n",
    "Kaggle private scoreboard snapshot: \n",
    "\n",
    "[Snapshot](img/pic0.png)"
   ]
  },
  {
   "cell_type": "markdown",
   "metadata": {},
   "source": [
    "---"
   ]
  },
  {
   "cell_type": "markdown",
   "metadata": {},
   "source": [
    "### Instructions"
   ]
  },
  {
   "cell_type": "markdown",
   "metadata": {},
   "source": [
    "1. First: __This part is worth 30% of your grade.__ Do the **take home** exercises in the DM2023-Lab2-master. You may need to copy some cells from the Lab notebook to this notebook. \n",
    "\n",
    "\n",
    "2. Second: __This part is worth 30% of your grade.__ Participate in the in-class [Kaggle Competition](https://www.kaggle.com/t/09b1d0f3f8584d06848252277cb535f2) regarding Emotion Recognition on Twitter by this link https://www.kaggle.com/t/09b1d0f3f8584d06848252277cb535f2. The scoring will be given according to your place in the Private Leaderboard ranking: \n",
    "    - **Bottom 40%**: Get 20% of the 30% available for this section.\n",
    "\n",
    "    - **Top 41% - 100%**: Get (60-x)/6 + 20 points, where x is your ranking in the leaderboard (ie. If you rank 3rd your score will be (60-3)/6 + 20 = 29.5% out of 30%)   \n",
    "    Submit your last submission __BEFORE the deadline (Dec. 27th 11:59 pm, Wednesday)_. Make sure to take a screenshot of your position at the end of the competition and store it as '''pic0.png''' under the **img** folder of this repository and rerun the cell **Student Information**.\n",
    "    \n",
    "\n",
    "3. Third: __This part is worth 30% of your grade.__ A report of your work developping the model for the competition (You can use code and comment it). This report should include what your preprocessing steps, the feature engineering steps and an explanation of your model. You can also mention different things you tried and insights you gained. \n",
    "\n",
    "\n",
    "4. Fourth: __This part is worth 10% of your grade.__ It's hard for us to follow if your code is messy :'(, so please **tidy up your notebook** and **add minimal comments where needed**.\n",
    "\n",
    "\n",
    "Upload your files to your repository then submit the link to it on the corresponding e-learn assignment.\n",
    "\n",
    "Make sure to commit and save your changes to your repository __BEFORE the deadline (Dec. 31th 11:59 pm, Sunday)__. "
   ]
  },
  {
   "cell_type": "markdown",
   "metadata": {},
   "source": [
    "## Table of Contents\n",
    "1. Data Preprocessing\n",
    "2. Model Selection\n",
    "3. Inference & Performance"
   ]
  },
  {
   "cell_type": "markdown",
   "metadata": {},
   "source": [
    "---\n",
    "## 1. Data Preprecessing\n",
    "### 1.1 Load Data\n",
    "a) Load 'tweets_DM.json' and save as dataframe."
   ]
  },
  {
   "cell_type": "code",
   "execution_count": 16,
   "metadata": {},
   "outputs": [
    {
     "name": "stdout",
     "output_type": "stream",
     "text": [
      "   score           index                                             source  \\\n",
      "0    391  hashtag_tweets  {'tweet': {'hashtags': ['Snapchat'], 'tweet_id...   \n",
      "1    433  hashtag_tweets  {'tweet': {'hashtags': ['freepress', 'TrumpLeg...   \n",
      "2    232  hashtag_tweets  {'tweet': {'hashtags': ['bibleverse'], 'tweet_...   \n",
      "3    376  hashtag_tweets  {'tweet': {'hashtags': [], 'tweet_id': '0x1cd5...   \n",
      "4    989  hashtag_tweets  {'tweet': {'hashtags': [], 'tweet_id': '0x2de2...   \n",
      "\n",
      "             crawldate    type  \n",
      "0  2015-05-23 11:42:47  tweets  \n",
      "1  2016-01-28 04:52:09  tweets  \n",
      "2  2017-12-25 04:39:20  tweets  \n",
      "3  2016-01-24 23:53:05  tweets  \n",
      "4  2016-01-08 17:18:59  tweets  \n"
     ]
    }
   ],
   "source": [
    "### Begin Assignment Here\n",
    "import pandas as pd\n",
    "import json\n",
    "\n",
    "with open('/home/nlplab/emma/DM2023-Lab2-Master/data/kaggle/tweets_DM.json', 'r' , encoding='utf-8') as file:\n",
    "    lines=file.readlines()\n",
    "\n",
    "data=[]\n",
    "for line in lines:\n",
    "    json_data=json.loads(line)\n",
    "    data.append(json_data)\n",
    "    \n",
    "all_df = pd.DataFrame(data)\n",
    "\n",
    "first_columns = [\"_score\", \"_index\", \"_source\", \"_crawldate\", \"_type\"]\n",
    "all_df = all_df[first_columns]\n",
    "all_df.columns = all_df.columns.str.replace('_', '')\n",
    "\n",
    "print(all_df.head())"
   ]
  },
  {
   "cell_type": "markdown",
   "metadata": {},
   "source": [
    "b) Utilizing 'json_normalize' to flatten it because the 'source' column contains information structured across multiple fields."
   ]
  },
  {
   "cell_type": "code",
   "execution_count": 17,
   "metadata": {},
   "outputs": [
    {
     "data": {
      "text/html": [
       "<div>\n",
       "<style scoped>\n",
       "    .dataframe tbody tr th:only-of-type {\n",
       "        vertical-align: middle;\n",
       "    }\n",
       "\n",
       "    .dataframe tbody tr th {\n",
       "        vertical-align: top;\n",
       "    }\n",
       "\n",
       "    .dataframe thead th {\n",
       "        text-align: right;\n",
       "    }\n",
       "</style>\n",
       "<table border=\"1\" class=\"dataframe\">\n",
       "  <thead>\n",
       "    <tr style=\"text-align: right;\">\n",
       "      <th></th>\n",
       "      <th>score</th>\n",
       "      <th>index</th>\n",
       "      <th>source</th>\n",
       "      <th>crawldate</th>\n",
       "      <th>type</th>\n",
       "      <th>tweet_hashtags</th>\n",
       "      <th>tweet_id</th>\n",
       "      <th>tweet_text</th>\n",
       "    </tr>\n",
       "  </thead>\n",
       "  <tbody>\n",
       "    <tr>\n",
       "      <th>0</th>\n",
       "      <td>391</td>\n",
       "      <td>hashtag_tweets</td>\n",
       "      <td>{'tweet': {'hashtags': ['Snapchat'], 'tweet_id...</td>\n",
       "      <td>2015-05-23 11:42:47</td>\n",
       "      <td>tweets</td>\n",
       "      <td>[Snapchat]</td>\n",
       "      <td>0x376b20</td>\n",
       "      <td>People who post \"add me on #Snapchat\" must be ...</td>\n",
       "    </tr>\n",
       "    <tr>\n",
       "      <th>1</th>\n",
       "      <td>433</td>\n",
       "      <td>hashtag_tweets</td>\n",
       "      <td>{'tweet': {'hashtags': ['freepress', 'TrumpLeg...</td>\n",
       "      <td>2016-01-28 04:52:09</td>\n",
       "      <td>tweets</td>\n",
       "      <td>[freepress, TrumpLegacy, CNN]</td>\n",
       "      <td>0x2d5350</td>\n",
       "      <td>@brianklaas As we see, Trump is dangerous to #...</td>\n",
       "    </tr>\n",
       "    <tr>\n",
       "      <th>2</th>\n",
       "      <td>232</td>\n",
       "      <td>hashtag_tweets</td>\n",
       "      <td>{'tweet': {'hashtags': ['bibleverse'], 'tweet_...</td>\n",
       "      <td>2017-12-25 04:39:20</td>\n",
       "      <td>tweets</td>\n",
       "      <td>[bibleverse]</td>\n",
       "      <td>0x28b412</td>\n",
       "      <td>Confident of your obedience, I write to you, k...</td>\n",
       "    </tr>\n",
       "    <tr>\n",
       "      <th>3</th>\n",
       "      <td>376</td>\n",
       "      <td>hashtag_tweets</td>\n",
       "      <td>{'tweet': {'hashtags': [], 'tweet_id': '0x1cd5...</td>\n",
       "      <td>2016-01-24 23:53:05</td>\n",
       "      <td>tweets</td>\n",
       "      <td>[]</td>\n",
       "      <td>0x1cd5b0</td>\n",
       "      <td>Now ISSA is stalking Tasha 😂😂😂 &lt;LH&gt;</td>\n",
       "    </tr>\n",
       "    <tr>\n",
       "      <th>4</th>\n",
       "      <td>989</td>\n",
       "      <td>hashtag_tweets</td>\n",
       "      <td>{'tweet': {'hashtags': [], 'tweet_id': '0x2de2...</td>\n",
       "      <td>2016-01-08 17:18:59</td>\n",
       "      <td>tweets</td>\n",
       "      <td>[]</td>\n",
       "      <td>0x2de201</td>\n",
       "      <td>\"Trust is not the same as faith. A friend is s...</td>\n",
       "    </tr>\n",
       "  </tbody>\n",
       "</table>\n",
       "</div>"
      ],
      "text/plain": [
       "   score           index                                             source  \\\n",
       "0    391  hashtag_tweets  {'tweet': {'hashtags': ['Snapchat'], 'tweet_id...   \n",
       "1    433  hashtag_tweets  {'tweet': {'hashtags': ['freepress', 'TrumpLeg...   \n",
       "2    232  hashtag_tweets  {'tweet': {'hashtags': ['bibleverse'], 'tweet_...   \n",
       "3    376  hashtag_tweets  {'tweet': {'hashtags': [], 'tweet_id': '0x1cd5...   \n",
       "4    989  hashtag_tweets  {'tweet': {'hashtags': [], 'tweet_id': '0x2de2...   \n",
       "\n",
       "             crawldate    type                 tweet_hashtags  tweet_id  \\\n",
       "0  2015-05-23 11:42:47  tweets                     [Snapchat]  0x376b20   \n",
       "1  2016-01-28 04:52:09  tweets  [freepress, TrumpLegacy, CNN]  0x2d5350   \n",
       "2  2017-12-25 04:39:20  tweets                   [bibleverse]  0x28b412   \n",
       "3  2016-01-24 23:53:05  tweets                             []  0x1cd5b0   \n",
       "4  2016-01-08 17:18:59  tweets                             []  0x2de201   \n",
       "\n",
       "                                          tweet_text  \n",
       "0  People who post \"add me on #Snapchat\" must be ...  \n",
       "1  @brianklaas As we see, Trump is dangerous to #...  \n",
       "2  Confident of your obedience, I write to you, k...  \n",
       "3                Now ISSA is stalking Tasha 😂😂😂 <LH>  \n",
       "4  \"Trust is not the same as faith. A friend is s...  "
      ]
     },
     "execution_count": 17,
     "metadata": {},
     "output_type": "execute_result"
    }
   ],
   "source": [
    "from pandas import json_normalize\n",
    "result = json_normalize(all_df['source'])\n",
    "result.columns = ['tweet_hashtags', 'tweet_id', 'tweet_text']\n",
    "all_df = pd.concat([all_df, result], axis=1)\n",
    "\n",
    "all_df.head()"
   ]
  },
  {
   "cell_type": "code",
   "execution_count": 18,
   "metadata": {},
   "outputs": [
    {
     "data": {
      "text/plain": [
       "(1867535, 8)"
      ]
     },
     "execution_count": 18,
     "metadata": {},
     "output_type": "execute_result"
    }
   ],
   "source": [
    "all_df.shape"
   ]
  },
  {
   "cell_type": "code",
   "execution_count": 19,
   "metadata": {},
   "outputs": [
    {
     "data": {
      "text/html": [
       "<div>\n",
       "<style scoped>\n",
       "    .dataframe tbody tr th:only-of-type {\n",
       "        vertical-align: middle;\n",
       "    }\n",
       "\n",
       "    .dataframe tbody tr th {\n",
       "        vertical-align: top;\n",
       "    }\n",
       "\n",
       "    .dataframe thead th {\n",
       "        text-align: right;\n",
       "    }\n",
       "</style>\n",
       "<table border=\"1\" class=\"dataframe\">\n",
       "  <thead>\n",
       "    <tr style=\"text-align: right;\">\n",
       "      <th></th>\n",
       "      <th>score</th>\n",
       "      <th>index</th>\n",
       "      <th>crawldate</th>\n",
       "      <th>type</th>\n",
       "      <th>tweet_hashtags</th>\n",
       "      <th>tweet_id</th>\n",
       "      <th>tweet_text</th>\n",
       "    </tr>\n",
       "  </thead>\n",
       "  <tbody>\n",
       "    <tr>\n",
       "      <th>0</th>\n",
       "      <td>391</td>\n",
       "      <td>hashtag_tweets</td>\n",
       "      <td>2015-05-23 11:42:47</td>\n",
       "      <td>tweets</td>\n",
       "      <td>Snapchat</td>\n",
       "      <td>0x376b20</td>\n",
       "      <td>People who post \"add me on #Snapchat\" must be ...</td>\n",
       "    </tr>\n",
       "    <tr>\n",
       "      <th>1</th>\n",
       "      <td>433</td>\n",
       "      <td>hashtag_tweets</td>\n",
       "      <td>2016-01-28 04:52:09</td>\n",
       "      <td>tweets</td>\n",
       "      <td>freepress, TrumpLegacy, CNN</td>\n",
       "      <td>0x2d5350</td>\n",
       "      <td>@brianklaas As we see, Trump is dangerous to #...</td>\n",
       "    </tr>\n",
       "    <tr>\n",
       "      <th>2</th>\n",
       "      <td>232</td>\n",
       "      <td>hashtag_tweets</td>\n",
       "      <td>2017-12-25 04:39:20</td>\n",
       "      <td>tweets</td>\n",
       "      <td>bibleverse</td>\n",
       "      <td>0x28b412</td>\n",
       "      <td>Confident of your obedience, I write to you, k...</td>\n",
       "    </tr>\n",
       "    <tr>\n",
       "      <th>3</th>\n",
       "      <td>376</td>\n",
       "      <td>hashtag_tweets</td>\n",
       "      <td>2016-01-24 23:53:05</td>\n",
       "      <td>tweets</td>\n",
       "      <td></td>\n",
       "      <td>0x1cd5b0</td>\n",
       "      <td>Now ISSA is stalking Tasha 😂😂😂 &lt;LH&gt;</td>\n",
       "    </tr>\n",
       "    <tr>\n",
       "      <th>4</th>\n",
       "      <td>989</td>\n",
       "      <td>hashtag_tweets</td>\n",
       "      <td>2016-01-08 17:18:59</td>\n",
       "      <td>tweets</td>\n",
       "      <td></td>\n",
       "      <td>0x2de201</td>\n",
       "      <td>\"Trust is not the same as faith. A friend is s...</td>\n",
       "    </tr>\n",
       "  </tbody>\n",
       "</table>\n",
       "</div>"
      ],
      "text/plain": [
       "   score           index            crawldate    type  \\\n",
       "0    391  hashtag_tweets  2015-05-23 11:42:47  tweets   \n",
       "1    433  hashtag_tweets  2016-01-28 04:52:09  tweets   \n",
       "2    232  hashtag_tweets  2017-12-25 04:39:20  tweets   \n",
       "3    376  hashtag_tweets  2016-01-24 23:53:05  tweets   \n",
       "4    989  hashtag_tweets  2016-01-08 17:18:59  tweets   \n",
       "\n",
       "                tweet_hashtags  tweet_id  \\\n",
       "0                     Snapchat  0x376b20   \n",
       "1  freepress, TrumpLegacy, CNN  0x2d5350   \n",
       "2                   bibleverse  0x28b412   \n",
       "3                               0x1cd5b0   \n",
       "4                               0x2de201   \n",
       "\n",
       "                                          tweet_text  \n",
       "0  People who post \"add me on #Snapchat\" must be ...  \n",
       "1  @brianklaas As we see, Trump is dangerous to #...  \n",
       "2  Confident of your obedience, I write to you, k...  \n",
       "3                Now ISSA is stalking Tasha 😂😂😂 <LH>  \n",
       "4  \"Trust is not the same as faith. A friend is s...  "
      ]
     },
     "execution_count": 19,
     "metadata": {},
     "output_type": "execute_result"
    }
   ],
   "source": [
    "# delete 'source' column\n",
    "all_df.drop('source', axis=1, inplace=True)\n",
    "\n",
    "# replace list to string in 'tweet_hashtags' column due to []\n",
    "all_df['tweet_hashtags'] = all_df['tweet_hashtags'].apply(lambda x: ', '.join(x) if x else '')\n",
    "all_df.head()"
   ]
  },
  {
   "cell_type": "markdown",
   "metadata": {},
   "source": [
    "c) Merge the emotion and identification data."
   ]
  },
  {
   "cell_type": "code",
   "execution_count": 20,
   "metadata": {},
   "outputs": [],
   "source": [
    "# 合併 emotion 與 identification 資料\n",
    "emotion_df = pd.read_csv('/home/nlplab/emma/DM2023-Lab2-Master/data/kaggle/emotion.csv')\n",
    "identification_df = pd.read_csv('/home/nlplab/emma/DM2023-Lab2-Master/data/kaggle/data_identification.csv')\n",
    "\n",
    "all_df = pd.merge(all_df, emotion_df, on='tweet_id', how='left')\n",
    "all_df = pd.merge(all_df, identification_df, on='tweet_id', how='left')"
   ]
  },
  {
   "cell_type": "code",
   "execution_count": 21,
   "metadata": {},
   "outputs": [
    {
     "data": {
      "text/html": [
       "<div>\n",
       "<style scoped>\n",
       "    .dataframe tbody tr th:only-of-type {\n",
       "        vertical-align: middle;\n",
       "    }\n",
       "\n",
       "    .dataframe tbody tr th {\n",
       "        vertical-align: top;\n",
       "    }\n",
       "\n",
       "    .dataframe thead th {\n",
       "        text-align: right;\n",
       "    }\n",
       "</style>\n",
       "<table border=\"1\" class=\"dataframe\">\n",
       "  <thead>\n",
       "    <tr style=\"text-align: right;\">\n",
       "      <th></th>\n",
       "      <th>score</th>\n",
       "      <th>index</th>\n",
       "      <th>crawldate</th>\n",
       "      <th>type</th>\n",
       "      <th>tweet_hashtags</th>\n",
       "      <th>tweet_id</th>\n",
       "      <th>tweet_text</th>\n",
       "      <th>emotion</th>\n",
       "      <th>identification</th>\n",
       "    </tr>\n",
       "  </thead>\n",
       "  <tbody>\n",
       "    <tr>\n",
       "      <th>0</th>\n",
       "      <td>391</td>\n",
       "      <td>hashtag_tweets</td>\n",
       "      <td>2015-05-23 11:42:47</td>\n",
       "      <td>tweets</td>\n",
       "      <td>Snapchat</td>\n",
       "      <td>0x376b20</td>\n",
       "      <td>People who post \"add me on #Snapchat\" must be ...</td>\n",
       "      <td>anticipation</td>\n",
       "      <td>train</td>\n",
       "    </tr>\n",
       "    <tr>\n",
       "      <th>1</th>\n",
       "      <td>433</td>\n",
       "      <td>hashtag_tweets</td>\n",
       "      <td>2016-01-28 04:52:09</td>\n",
       "      <td>tweets</td>\n",
       "      <td>freepress, TrumpLegacy, CNN</td>\n",
       "      <td>0x2d5350</td>\n",
       "      <td>@brianklaas As we see, Trump is dangerous to #...</td>\n",
       "      <td>sadness</td>\n",
       "      <td>train</td>\n",
       "    </tr>\n",
       "    <tr>\n",
       "      <th>2</th>\n",
       "      <td>232</td>\n",
       "      <td>hashtag_tweets</td>\n",
       "      <td>2017-12-25 04:39:20</td>\n",
       "      <td>tweets</td>\n",
       "      <td>bibleverse</td>\n",
       "      <td>0x28b412</td>\n",
       "      <td>Confident of your obedience, I write to you, k...</td>\n",
       "      <td>NaN</td>\n",
       "      <td>test</td>\n",
       "    </tr>\n",
       "    <tr>\n",
       "      <th>3</th>\n",
       "      <td>376</td>\n",
       "      <td>hashtag_tweets</td>\n",
       "      <td>2016-01-24 23:53:05</td>\n",
       "      <td>tweets</td>\n",
       "      <td></td>\n",
       "      <td>0x1cd5b0</td>\n",
       "      <td>Now ISSA is stalking Tasha 😂😂😂 &lt;LH&gt;</td>\n",
       "      <td>fear</td>\n",
       "      <td>train</td>\n",
       "    </tr>\n",
       "    <tr>\n",
       "      <th>4</th>\n",
       "      <td>989</td>\n",
       "      <td>hashtag_tweets</td>\n",
       "      <td>2016-01-08 17:18:59</td>\n",
       "      <td>tweets</td>\n",
       "      <td></td>\n",
       "      <td>0x2de201</td>\n",
       "      <td>\"Trust is not the same as faith. A friend is s...</td>\n",
       "      <td>NaN</td>\n",
       "      <td>test</td>\n",
       "    </tr>\n",
       "  </tbody>\n",
       "</table>\n",
       "</div>"
      ],
      "text/plain": [
       "   score           index            crawldate    type  \\\n",
       "0    391  hashtag_tweets  2015-05-23 11:42:47  tweets   \n",
       "1    433  hashtag_tweets  2016-01-28 04:52:09  tweets   \n",
       "2    232  hashtag_tweets  2017-12-25 04:39:20  tweets   \n",
       "3    376  hashtag_tweets  2016-01-24 23:53:05  tweets   \n",
       "4    989  hashtag_tweets  2016-01-08 17:18:59  tweets   \n",
       "\n",
       "                tweet_hashtags  tweet_id  \\\n",
       "0                     Snapchat  0x376b20   \n",
       "1  freepress, TrumpLegacy, CNN  0x2d5350   \n",
       "2                   bibleverse  0x28b412   \n",
       "3                               0x1cd5b0   \n",
       "4                               0x2de201   \n",
       "\n",
       "                                          tweet_text       emotion  \\\n",
       "0  People who post \"add me on #Snapchat\" must be ...  anticipation   \n",
       "1  @brianklaas As we see, Trump is dangerous to #...       sadness   \n",
       "2  Confident of your obedience, I write to you, k...           NaN   \n",
       "3                Now ISSA is stalking Tasha 😂😂😂 <LH>          fear   \n",
       "4  \"Trust is not the same as faith. A friend is s...           NaN   \n",
       "\n",
       "  identification  \n",
       "0          train  \n",
       "1          train  \n",
       "2           test  \n",
       "3          train  \n",
       "4           test  "
      ]
     },
     "execution_count": 21,
     "metadata": {},
     "output_type": "execute_result"
    }
   ],
   "source": [
    "all_df.head()\n",
    "# print(all_df.shape)"
   ]
  },
  {
   "cell_type": "markdown",
   "metadata": {},
   "source": [
    "### 1.2 Exploratory Data Analysis, EDA\n",
    "a) Inspecting columns and handling them."
   ]
  },
  {
   "cell_type": "code",
   "execution_count": 23,
   "metadata": {},
   "outputs": [
    {
     "data": {
      "text/html": [
       "<div>\n",
       "<style scoped>\n",
       "    .dataframe tbody tr th:only-of-type {\n",
       "        vertical-align: middle;\n",
       "    }\n",
       "\n",
       "    .dataframe tbody tr th {\n",
       "        vertical-align: top;\n",
       "    }\n",
       "\n",
       "    .dataframe thead th {\n",
       "        text-align: right;\n",
       "    }\n",
       "</style>\n",
       "<table border=\"1\" class=\"dataframe\">\n",
       "  <thead>\n",
       "    <tr style=\"text-align: right;\">\n",
       "      <th></th>\n",
       "      <th>tweet_id</th>\n",
       "      <th>score</th>\n",
       "      <th>crawldate</th>\n",
       "      <th>tweet_hashtags</th>\n",
       "      <th>tweet_text</th>\n",
       "      <th>emotion</th>\n",
       "      <th>identification</th>\n",
       "    </tr>\n",
       "  </thead>\n",
       "  <tbody>\n",
       "    <tr>\n",
       "      <th>0</th>\n",
       "      <td>0x376b20</td>\n",
       "      <td>391</td>\n",
       "      <td>2015-05-23 11:42:47</td>\n",
       "      <td>Snapchat</td>\n",
       "      <td>People who post \"add me on #Snapchat\" must be ...</td>\n",
       "      <td>anticipation</td>\n",
       "      <td>train</td>\n",
       "    </tr>\n",
       "    <tr>\n",
       "      <th>1</th>\n",
       "      <td>0x2d5350</td>\n",
       "      <td>433</td>\n",
       "      <td>2016-01-28 04:52:09</td>\n",
       "      <td>freepress, TrumpLegacy, CNN</td>\n",
       "      <td>@brianklaas As we see, Trump is dangerous to #...</td>\n",
       "      <td>sadness</td>\n",
       "      <td>train</td>\n",
       "    </tr>\n",
       "    <tr>\n",
       "      <th>2</th>\n",
       "      <td>0x28b412</td>\n",
       "      <td>232</td>\n",
       "      <td>2017-12-25 04:39:20</td>\n",
       "      <td>bibleverse</td>\n",
       "      <td>Confident of your obedience, I write to you, k...</td>\n",
       "      <td>NaN</td>\n",
       "      <td>test</td>\n",
       "    </tr>\n",
       "    <tr>\n",
       "      <th>3</th>\n",
       "      <td>0x1cd5b0</td>\n",
       "      <td>376</td>\n",
       "      <td>2016-01-24 23:53:05</td>\n",
       "      <td></td>\n",
       "      <td>Now ISSA is stalking Tasha 😂😂😂 &lt;LH&gt;</td>\n",
       "      <td>fear</td>\n",
       "      <td>train</td>\n",
       "    </tr>\n",
       "    <tr>\n",
       "      <th>4</th>\n",
       "      <td>0x2de201</td>\n",
       "      <td>989</td>\n",
       "      <td>2016-01-08 17:18:59</td>\n",
       "      <td></td>\n",
       "      <td>\"Trust is not the same as faith. A friend is s...</td>\n",
       "      <td>NaN</td>\n",
       "      <td>test</td>\n",
       "    </tr>\n",
       "  </tbody>\n",
       "</table>\n",
       "</div>"
      ],
      "text/plain": [
       "   tweet_id  score            crawldate               tweet_hashtags  \\\n",
       "0  0x376b20    391  2015-05-23 11:42:47                     Snapchat   \n",
       "1  0x2d5350    433  2016-01-28 04:52:09  freepress, TrumpLegacy, CNN   \n",
       "2  0x28b412    232  2017-12-25 04:39:20                   bibleverse   \n",
       "3  0x1cd5b0    376  2016-01-24 23:53:05                                \n",
       "4  0x2de201    989  2016-01-08 17:18:59                                \n",
       "\n",
       "                                          tweet_text       emotion  \\\n",
       "0  People who post \"add me on #Snapchat\" must be ...  anticipation   \n",
       "1  @brianklaas As we see, Trump is dangerous to #...       sadness   \n",
       "2  Confident of your obedience, I write to you, k...           NaN   \n",
       "3                Now ISSA is stalking Tasha 😂😂😂 <LH>          fear   \n",
       "4  \"Trust is not the same as faith. A friend is s...           NaN   \n",
       "\n",
       "  identification  \n",
       "0          train  \n",
       "1          train  \n",
       "2           test  \n",
       "3          train  \n",
       "4           test  "
      ]
     },
     "execution_count": 23,
     "metadata": {},
     "output_type": "execute_result"
    }
   ],
   "source": [
    "duplicate_data=all_df\n",
    "\n",
    "# change the position of 'tweet_id' column\n",
    "tweet_id_column=duplicate_data.pop('tweet_id')\n",
    "duplicate_data.insert(0, 'tweet_id', tweet_id_column)\n",
    "\n",
    "# drop columns with identical values in each row\n",
    "duplicate_data.pop('type')\n",
    "duplicate_data.pop('index')\n",
    "\n",
    "duplicate_data.head()"
   ]
  },
  {
   "cell_type": "markdown",
   "metadata": {},
   "source": [
    "b) Emotion Distribution Analysis\n",
    "\n",
    "Analyzes emotion distribution, displays percentages in a histogram."
   ]
  },
  {
   "cell_type": "code",
   "execution_count": 28,
   "metadata": {},
   "outputs": [
    {
     "name": "stdout",
     "output_type": "stream",
     "text": [
      "Emotion:anticipation, Count:248935\n",
      "Emotion:sadness, Count:193437\n",
      "Emotion:fear, Count:63999\n",
      "Emotion:joy, Count:516017\n",
      "Emotion:anger, Count:39867\n",
      "Emotion:trust, Count:205478\n",
      "Emotion:disgust, Count:139101\n",
      "Emotion:surprise, Count:48729\n",
      "Count of NaN in 'emotion' column: 411972\n"
     ]
    },
    {
     "data": {
      "image/png": "[encoded data removed]",
      "text/plain": [
       "<Figure size 800x400 with 1 Axes>"
      ]
     },
     "metadata": {},
     "output_type": "display_data"
    }
   ],
   "source": [
    "%matplotlib inline\n",
    "import numpy as np\n",
    "import matplotlib.pyplot as plt\n",
    "\n",
    "emotions = ['anticipation', 'sadness', 'fear', 'joy', 'anger', 'trust', 'disgust', 'surprise'] # 8\n",
    "for emotion in emotions:\n",
    "    count=(duplicate_data['emotion'] == emotion).sum()\n",
    "    print(f\"Emotion:{emotion}, Count:{count}\")\n",
    "count_nan = pd.isnull(duplicate_data['emotion']).sum()\n",
    "print(f\"Count of NaN in 'emotion' column: {count_nan}\")\n",
    "\n",
    "# the histogram of the data\n",
    "labels = duplicate_data['emotion'].unique()\n",
    "post_total = len(duplicate_data)\n",
    "df1 = duplicate_data.groupby(['emotion']).count()['tweet_text']\n",
    "df1 = df1.apply(lambda x: round(x*100/post_total,3))\n",
    "\n",
    "#plot\n",
    "fig, ax = plt.subplots(figsize=(8,4))\n",
    "plt.bar(df1.index,df1.values)\n",
    "\n",
    "#arrange\n",
    "plt.ylabel('% of instances')\n",
    "plt.xlabel('Emotion')\n",
    "plt.title('Emotion distribution')\n",
    "plt.grid(True)\n",
    "plt.show()"
   ]
  },
  {
   "cell_type": "markdown",
   "metadata": {},
   "source": [
    "c) Splitting Data for Training and Prediction."
   ]
  },
  {
   "cell_type": "code",
   "execution_count": 24,
   "metadata": {},
   "outputs": [],
   "source": [
    "from sklearn.model_selection import train_test_split\n",
    "training_df = duplicate_data[duplicate_data['identification'] == 'train']\n",
    "predicting_df = duplicate_data[duplicate_data['identification'] == 'test']"
   ]
  },
  {
   "cell_type": "code",
   "execution_count": 25,
   "metadata": {},
   "outputs": [
    {
     "data": {
      "text/html": [
       "<div>\n",
       "<style scoped>\n",
       "    .dataframe tbody tr th:only-of-type {\n",
       "        vertical-align: middle;\n",
       "    }\n",
       "\n",
       "    .dataframe tbody tr th {\n",
       "        vertical-align: top;\n",
       "    }\n",
       "\n",
       "    .dataframe thead th {\n",
       "        text-align: right;\n",
       "    }\n",
       "</style>\n",
       "<table border=\"1\" class=\"dataframe\">\n",
       "  <thead>\n",
       "    <tr style=\"text-align: right;\">\n",
       "      <th></th>\n",
       "      <th>tweet_id</th>\n",
       "      <th>score</th>\n",
       "      <th>crawldate</th>\n",
       "      <th>tweet_hashtags</th>\n",
       "      <th>tweet_text</th>\n",
       "      <th>emotion</th>\n",
       "    </tr>\n",
       "  </thead>\n",
       "  <tbody>\n",
       "    <tr>\n",
       "      <th>2</th>\n",
       "      <td>0x28b412</td>\n",
       "      <td>232</td>\n",
       "      <td>2017-12-25 04:39:20</td>\n",
       "      <td>bibleverse</td>\n",
       "      <td>Confident of your obedience, I write to you, k...</td>\n",
       "      <td>NaN</td>\n",
       "    </tr>\n",
       "    <tr>\n",
       "      <th>4</th>\n",
       "      <td>0x2de201</td>\n",
       "      <td>989</td>\n",
       "      <td>2016-01-08 17:18:59</td>\n",
       "      <td></td>\n",
       "      <td>\"Trust is not the same as faith. A friend is s...</td>\n",
       "      <td>NaN</td>\n",
       "    </tr>\n",
       "    <tr>\n",
       "      <th>9</th>\n",
       "      <td>0x218443</td>\n",
       "      <td>66</td>\n",
       "      <td>2015-09-09 09:22:55</td>\n",
       "      <td>materialism, money, possessions</td>\n",
       "      <td>When do you have enough ? When are you satisfi...</td>\n",
       "      <td>NaN</td>\n",
       "    </tr>\n",
       "    <tr>\n",
       "      <th>30</th>\n",
       "      <td>0x2939d5</td>\n",
       "      <td>104</td>\n",
       "      <td>2015-10-10 14:33:26</td>\n",
       "      <td>GodsPlan, GodsWork</td>\n",
       "      <td>God woke you up, now chase the day #GodsPlan #...</td>\n",
       "      <td>NaN</td>\n",
       "    </tr>\n",
       "    <tr>\n",
       "      <th>33</th>\n",
       "      <td>0x26289a</td>\n",
       "      <td>310</td>\n",
       "      <td>2016-10-23 08:49:50</td>\n",
       "      <td></td>\n",
       "      <td>In these tough times, who do YOU turn to as yo...</td>\n",
       "      <td>NaN</td>\n",
       "    </tr>\n",
       "  </tbody>\n",
       "</table>\n",
       "</div>"
      ],
      "text/plain": [
       "    tweet_id  score            crawldate                   tweet_hashtags  \\\n",
       "2   0x28b412    232  2017-12-25 04:39:20                       bibleverse   \n",
       "4   0x2de201    989  2016-01-08 17:18:59                                    \n",
       "9   0x218443     66  2015-09-09 09:22:55  materialism, money, possessions   \n",
       "30  0x2939d5    104  2015-10-10 14:33:26               GodsPlan, GodsWork   \n",
       "33  0x26289a    310  2016-10-23 08:49:50                                    \n",
       "\n",
       "                                           tweet_text emotion  \n",
       "2   Confident of your obedience, I write to you, k...     NaN  \n",
       "4   \"Trust is not the same as faith. A friend is s...     NaN  \n",
       "9   When do you have enough ? When are you satisfi...     NaN  \n",
       "30  God woke you up, now chase the day #GodsPlan #...     NaN  \n",
       "33  In these tough times, who do YOU turn to as yo...     NaN  "
      ]
     },
     "execution_count": 25,
     "metadata": {},
     "output_type": "execute_result"
    }
   ],
   "source": [
    "predicting_df.pop('identification')\n",
    "# training_df.pop('identification')\n",
    "predicting_df.head()"
   ]
  },
  {
   "cell_type": "code",
   "execution_count": 27,
   "metadata": {},
   "outputs": [
    {
     "name": "stdout",
     "output_type": "stream",
     "text": [
      "(1455563, 6)\n",
      "(411972, 6)\n"
     ]
    }
   ],
   "source": [
    "print(training_df.shape)\n",
    "print(predicting_df.shape)"
   ]
  },
  {
   "cell_type": "markdown",
   "metadata": {},
   "source": [
    "d) Handling Imbalance in Training Data."
   ]
  },
  {
   "cell_type": "code",
   "execution_count": 29,
   "metadata": {},
   "outputs": [],
   "source": [
    "import pandas as pd\n",
    "\n",
    "parameters = {\n",
    "    \"seed\": 1111,\n",
    "}\n",
    "\n",
    "grouped = training_df.groupby('emotion')\n",
    "train_sample_df = pd.DataFrame()\n",
    "\n",
    "for emotion, group in grouped:\n",
    "    shuffled_group = group.sample(frac=1, random_state=parameters['seed'])\n",
    "    sampled_group = shuffled_group.head(39867)\n",
    "    train_sample_df = pd.concat([train_sample_df, sampled_group])\n",
    "\n",
    "train_sample_df = train_sample_df.sample(frac=1, random_state=parameters['seed']).reset_index(drop=True)"
   ]
  },
  {
   "cell_type": "code",
   "execution_count": 30,
   "metadata": {},
   "outputs": [
    {
     "name": "stdout",
     "output_type": "stream",
     "text": [
      "Emotion:anticipation, Count:39867\n",
      "Emotion:sadness, Count:39867\n",
      "Emotion:fear, Count:39867\n",
      "Emotion:joy, Count:39867\n",
      "Emotion:anger, Count:39867\n",
      "Emotion:trust, Count:39867\n",
      "Emotion:disgust, Count:39867\n",
      "Emotion:surprise, Count:39867\n",
      "Count of NaN in 'emotion' column: 0\n"
     ]
    },
    {
     "data": {
      "image/png": "[encoded data removed]",
      "text/plain": [
       "<Figure size 800x400 with 1 Axes>"
      ]
     },
     "metadata": {},
     "output_type": "display_data"
    }
   ],
   "source": [
    "%matplotlib inline\n",
    "import numpy as np\n",
    "import matplotlib.pyplot as plt\n",
    "\n",
    "emotions = ['anticipation', 'sadness', 'fear', 'joy', 'anger', 'trust', 'disgust', 'surprise'] # 8\n",
    "for emotion in emotions:\n",
    "    count=(train_sample_df['emotion'] == emotion).sum()\n",
    "    print(f\"Emotion:{emotion}, Count:{count}\")\n",
    "count_nan = pd.isnull(train_sample_df['emotion']).sum()\n",
    "print(f\"Count of NaN in 'emotion' column: {count_nan}\")\n",
    "\n",
    "# the histogram of the data\n",
    "labels = train_sample_df['emotion'].unique()\n",
    "post_total = len(train_sample_df)\n",
    "df1 = train_sample_df.groupby(['emotion']).count()['tweet_text']\n",
    "df1 = df1.apply(lambda x: round(x*100/post_total,3))\n",
    "\n",
    "#plot\n",
    "fig, ax = plt.subplots(figsize=(8,4))\n",
    "plt.bar(df1.index,df1.values)\n",
    "\n",
    "#arrange\n",
    "plt.ylabel('% of instances')\n",
    "plt.xlabel('Emotion')\n",
    "plt.title('Emotion distribution')\n",
    "plt.grid(True)\n",
    "plt.show()"
   ]
  },
  {
   "cell_type": "markdown",
   "metadata": {},
   "source": [
    "e) Emotion Mapping and Representation Analysis"
   ]
  },
  {
   "cell_type": "code",
   "execution_count": 31,
   "metadata": {},
   "outputs": [
    {
     "name": "stdout",
     "output_type": "stream",
     "text": [
      "   emotion  emotion\n",
      "0        1        1\n",
      "1        7        7\n",
      "2        6        6\n",
      "3        1        1\n",
      "4        0        0\n",
      "Integer Representation: 0 -> Emotion: anticipation -> Count: 39867\n",
      "Integer Representation: 1 -> Emotion: sadness -> Count: 39867\n",
      "Integer Representation: 2 -> Emotion: fear -> Count: 39867\n",
      "Integer Representation: 3 -> Emotion: joy -> Count: 39867\n",
      "Integer Representation: 4 -> Emotion: anger -> Count: 39867\n",
      "Integer Representation: 5 -> Emotion: trust -> Count: 39867\n",
      "Integer Representation: 6 -> Emotion: disgust -> Count: 39867\n",
      "Integer Representation: 7 -> Emotion: surprise -> Count: 39867\n"
     ]
    }
   ],
   "source": [
    "emotion_mapping = {\n",
    "    0: 'anticipation',\n",
    "    1: 'sadness',\n",
    "    2: 'fear',\n",
    "    3: 'joy',\n",
    "    4: 'anger',\n",
    "    5: 'trust',\n",
    "    6: 'disgust',\n",
    "    7: 'surprise'\n",
    "}\n",
    "\n",
    "reverse_emotion_mapping = {v: k for k, v in emotion_mapping.items()}\n",
    "\n",
    "train_sample_df['emotion'] = train_sample_df['emotion'].map(reverse_emotion_mapping)\n",
    "\n",
    "print(train_sample_df[['emotion', 'emotion']].head())\n",
    "\n",
    "counts = train_sample_df['emotion'].value_counts().sort_index()\n",
    "for integer_repr, count in counts.items():\n",
    "    emotion = emotion_mapping[integer_repr]\n",
    "    print(f\"Integer Representation: {integer_repr} -> Emotion: {emotion} -> Count: {count}\")"
   ]
  },
  {
   "cell_type": "code",
   "execution_count": 32,
   "metadata": {},
   "outputs": [
    {
     "data": {
      "text/html": [
       "<div>\n",
       "<style scoped>\n",
       "    .dataframe tbody tr th:only-of-type {\n",
       "        vertical-align: middle;\n",
       "    }\n",
       "\n",
       "    .dataframe tbody tr th {\n",
       "        vertical-align: top;\n",
       "    }\n",
       "\n",
       "    .dataframe thead th {\n",
       "        text-align: right;\n",
       "    }\n",
       "</style>\n",
       "<table border=\"1\" class=\"dataframe\">\n",
       "  <thead>\n",
       "    <tr style=\"text-align: right;\">\n",
       "      <th></th>\n",
       "      <th>tweet_id</th>\n",
       "      <th>score</th>\n",
       "      <th>crawldate</th>\n",
       "      <th>tweet_hashtags</th>\n",
       "      <th>tweet_text</th>\n",
       "      <th>emotion</th>\n",
       "    </tr>\n",
       "  </thead>\n",
       "  <tbody>\n",
       "    <tr>\n",
       "      <th>0</th>\n",
       "      <td>0x38583f</td>\n",
       "      <td>773</td>\n",
       "      <td>2017-09-17 01:05:04</td>\n",
       "      <td>heartbroken, heartbreak</td>\n",
       "      <td>Tell me there's no point in trying😞 #heartbrok...</td>\n",
       "      <td>1</td>\n",
       "    </tr>\n",
       "    <tr>\n",
       "      <th>1</th>\n",
       "      <td>0x2659ff</td>\n",
       "      <td>780</td>\n",
       "      <td>2015-01-03 22:38:06</td>\n",
       "      <td>oldermen</td>\n",
       "      <td>I need an older man tonight. &lt;LH&gt; #oldermen &lt;LH&gt;</td>\n",
       "      <td>7</td>\n",
       "    </tr>\n",
       "    <tr>\n",
       "      <th>2</th>\n",
       "      <td>0x26b677</td>\n",
       "      <td>733</td>\n",
       "      <td>2017-10-10 03:39:17</td>\n",
       "      <td></td>\n",
       "      <td>Shit used to be so good &lt;LH&gt; HAPPENED</td>\n",
       "      <td>6</td>\n",
       "    </tr>\n",
       "    <tr>\n",
       "      <th>3</th>\n",
       "      <td>0x267cb0</td>\n",
       "      <td>21</td>\n",
       "      <td>2015-03-10 02:47:39</td>\n",
       "      <td></td>\n",
       "      <td>@realDonaldTrump I see all the hard work you a...</td>\n",
       "      <td>1</td>\n",
       "    </tr>\n",
       "    <tr>\n",
       "      <th>4</th>\n",
       "      <td>0x35b8d9</td>\n",
       "      <td>613</td>\n",
       "      <td>2017-02-17 13:22:15</td>\n",
       "      <td>MondayMotivation</td>\n",
       "      <td>A worn Bible is preventive medicine for what m...</td>\n",
       "      <td>0</td>\n",
       "    </tr>\n",
       "  </tbody>\n",
       "</table>\n",
       "</div>"
      ],
      "text/plain": [
       "   tweet_id  score            crawldate           tweet_hashtags  \\\n",
       "0  0x38583f    773  2017-09-17 01:05:04  heartbroken, heartbreak   \n",
       "1  0x2659ff    780  2015-01-03 22:38:06                 oldermen   \n",
       "2  0x26b677    733  2017-10-10 03:39:17                            \n",
       "3  0x267cb0     21  2015-03-10 02:47:39                            \n",
       "4  0x35b8d9    613  2017-02-17 13:22:15         MondayMotivation   \n",
       "\n",
       "                                          tweet_text  emotion  \n",
       "0  Tell me there's no point in trying😞 #heartbrok...        1  \n",
       "1   I need an older man tonight. <LH> #oldermen <LH>        7  \n",
       "2              Shit used to be so good <LH> HAPPENED        6  \n",
       "3  @realDonaldTrump I see all the hard work you a...        1  \n",
       "4  A worn Bible is preventive medicine for what m...        0  "
      ]
     },
     "execution_count": 32,
     "metadata": {},
     "output_type": "execute_result"
    }
   ],
   "source": [
    "train_sample_df.head()"
   ]
  },
  {
   "cell_type": "markdown",
   "metadata": {},
   "source": [
    "f) Splitting Data into Train, Validation, and Test Sets."
   ]
  },
  {
   "cell_type": "code",
   "execution_count": 33,
   "metadata": {},
   "outputs": [],
   "source": [
    "train_df, temp_df=train_test_split(train_sample_df, random_state=1111, train_size=0.8)\n",
    "val_df, test_df = train_test_split(temp_df, random_state=1111, train_size=0.5)"
   ]
  },
  {
   "cell_type": "code",
   "execution_count": null,
   "metadata": {},
   "outputs": [],
   "source": [
    "predicting_df.to_pickle(\"/home/nlplab/emma/DM2023-Lab2-Master/data/kaggle/prediction_df.pkl\") \n",
    "train_df.to_pickle(\"/home/nlplab/emma/DM2023-Lab2-Master/data/kaggle/train_df.pkl\") \n",
    "test_df.to_pickle(\"/home/nlplab/emma/DM2023-Lab2-Master/data/kaggle/test_df.pkl\") \n",
    "val_df.to_pickle(\"/home/nlplab/emma/DM2023-Lab2-Master/data/kaggle/val_df.pkl\") \n",
    "combined_val_df = pd.concat([test_df, val_df])\n",
    "combined_val_df.to_pickle(\"/home/nlplab/emma/DM2023-Lab2-Master/data/kaggle/combined_df.pkl\")"
   ]
  },
  {
   "cell_type": "code",
   "execution_count": 6,
   "metadata": {},
   "outputs": [],
   "source": [
    "import pandas as pd\n",
    "predicting_df = pd.read_pickle(\"/home/nlplab/emma/DM2023-Lab2-Master/data/kaggle/prediction_df.pkl\")\n",
    "train_df = pd.read_pickle(\"/home/nlplab/emma/DM2023-Lab2-Master/data/kaggle/train_df.pkl\")\n",
    "test_df = pd.read_pickle(\"/home/nlplab/emma/DM2023-Lab2-Master/data/kaggle/test_df.pkl\")\n",
    "val_df = pd.read_pickle(\"/home/nlplab/emma/DM2023-Lab2-Master/data/kaggle/val_df.pkl\")\n",
    "combined_val_df = pd.read_pickle(\"/home/nlplab/emma/DM2023-Lab2-Master/data/kaggle/combined_df.pkl\")"
   ]
  },
  {
   "cell_type": "code",
   "execution_count": 7,
   "metadata": {},
   "outputs": [
    {
     "name": "stdout",
     "output_type": "stream",
     "text": [
      "Shape of Prediction df:  (411972, 6)\n",
      "Shape of Training df:  (255148, 6)\n",
      "Shape of Testing df:  (31894, 6)\n",
      "Shape of Validation df:  (31894, 6)\n",
      "Shape of combined_val df:  (63788, 6)\n"
     ]
    }
   ],
   "source": [
    "print(\"Shape of Prediction df: \", predicting_df.shape)\n",
    "print(\"Shape of Training df: \", train_df.shape)\n",
    "print(\"Shape of Testing df: \", test_df.shape)\n",
    "print(\"Shape of Validation df: \", val_df.shape)\n",
    "print(\"Shape of combined_val df: \", combined_val_df.shape)"
   ]
  },
  {
   "cell_type": "markdown",
   "metadata": {},
   "source": [
    "---\n",
    "## 2. Model Selection\n",
    "### 2.1 Tokenizer\n",
    "To verify if the model's tokenizer can recognize emojis"
   ]
  },
  {
   "cell_type": "code",
   "execution_count": 10,
   "metadata": {},
   "outputs": [
    {
     "name": "stdout",
     "output_type": "stream",
     "text": [
      "<s><LH> but whatever better be 👉🏻 Heartless, no feelings, selfish, #MeMeMe etc 👈🏻😌😚 <LH> #FTheRest</s>\n"
     ]
    }
   ],
   "source": [
    "from transformers import AutoTokenizer, AutoModelForMaskedLM\n",
    "\n",
    "train_df['tweet_text'][304910]\n",
    "tokenizer = AutoTokenizer.from_pretrained('roberta-large')\n",
    "tokens = tokenizer(train_df['tweet_text'][304910])\n",
    "decoder_eomji = tokenizer.decode(tokens['input_ids'])\n",
    "print(decoder_eomji)"
   ]
  },
  {
   "cell_type": "markdown",
   "metadata": {},
   "source": [
    "### 2.2 TextClassification\n",
    "a) Libraries and Functions Import"
   ]
  },
  {
   "cell_type": "code",
   "execution_count": null,
   "metadata": {},
   "outputs": [],
   "source": [
    "from transformers import AutoTokenizer\n",
    "from transformers import DataCollatorWithPadding\n",
    "import pandas as pd\n",
    "import numpy as np\n",
    "import evaluate  # Custom module or function (not specified in the provided code)\n",
    "from tqdm import tqdm\n",
    "from transformers import AutoModelForSequenceClassification, TrainingArguments, Trainer\n",
    "from transformers import create_optimizer\n",
    "from transformers import TFAutoModelForSequenceClassification\n",
    "import tensorflow as tf\n",
    "from transformers.keras_callbacks import KerasMetricCallback\n",
    "from transformers.keras_callbacks import PushToHubCallback\n",
    "from datasets import Dataset\n",
    "from transformers import AutoTokenizer, ElectraModel"
   ]
  },
  {
   "cell_type": "markdown",
   "metadata": {},
   "source": [
    "b) Preprocessing Setup"
   ]
  },
  {
   "cell_type": "code",
   "execution_count": null,
   "metadata": {},
   "outputs": [],
   "source": [
    "tokenizer = AutoTokenizer.from_pretrained(\"google/electra-small-discriminator\")\n",
    "accuracy = evaluate.load(\"accuracy\")  # Presumably, a function or object to compute accuracy"
   ]
  },
  {
   "cell_type": "code",
   "execution_count": null,
   "metadata": {},
   "outputs": [],
   "source": [
    "def compute_metrics(eval_pred):\n",
    "    predictions, labels = eval_pred\n",
    "    predictions = np.argmax(predictions, axis=1)\n",
    "    return accuracy.compute(predictions=predictions, references=labels)"
   ]
  },
  {
   "cell_type": "code",
   "execution_count": null,
   "metadata": {},
   "outputs": [],
   "source": [
    "def preprocess_function(examples):\n",
    "    return tokenizer(examples[\"text\"], truncation=True)"
   ]
  },
  {
   "cell_type": "code",
   "execution_count": null,
   "metadata": {},
   "outputs": [],
   "source": [
    "# Load and preprocess training/validation data\n",
    "train_df = pd.read_pickle('/home/nlplab/emma/DM2023-Lab2-Master/data/kaggle/train_df.pkl').reset_index(drop=True)\n",
    "val_df = pd.read_pickle('/home/nlplab/emma/DM2023-Lab2-Master/data/kaggle/combined_df.pkl').reset_index(drop=True)\n",
    "\n",
    "# Renaming columns for consistency\n",
    "train_df.rename(columns={'tweet_text':'text', 'emotion': 'label'}, inplace=True)\n",
    "val_df.rename(columns={'tweet_text':'text', 'emotion': 'label'}, inplace=True)\n",
    "\n",
    "# Convert pandas DataFrame to Hugging Face Dataset\n",
    "train_df = Dataset.from_pandas(train_df)\n",
    "val_df = Dataset.from_pandas(val_df)\n",
    "\n",
    "# Tokenize the datasets\n",
    "tokenized_train = train_df.map(\n",
    "    preprocess_function, batched=True,\n",
    "    remove_columns=['tweet_id', 'score', 'crawldate']\n",
    ")\n",
    "tokenized_val = val_df.map(\n",
    "    preprocess_function, batched=True,\n",
    "    remove_columns=['tweet_id', 'score', 'crawldate']\n",
    ")"
   ]
  },
  {
   "cell_type": "markdown",
   "metadata": {},
   "source": [
    "d) Model and Training Configuration\n",
    "- distilbert-base-uncased\n",
    "- bert-base-uncased  \n",
    "- roberta-based\n",
    "- xlm-roberta-base \n",
    "- facebook/bart-base\n",
    "- google/electra-small-discriminator"
   ]
  },
  {
   "cell_type": "code",
   "execution_count": 4,
   "metadata": {},
   "outputs": [],
   "source": [
    "data_collator = DataCollatorWithPadding(tokenizer=tokenizer)\n",
    "\n",
    "model = AutoModelForSequenceClassification.from_pretrained(\n",
    "    \"google/electra-small-discriminator\", num_labels=8\n",
    ")\n",
    "\n",
    "training_args = TrainingArguments(\n",
    "    output_dir=\"/home/nlplab/emma/DM2023-Lab2-Master/my_awesome_model\",\n",
    "    learning_rate=2e-5,\n",
    "    per_device_train_batch_size=64,\n",
    "    per_device_eval_batch_size=16,\n",
    "    num_train_epochs=12,\n",
    "    weight_decay=0.01,\n",
    "    evaluation_strategy=\"epoch\",\n",
    "    save_strategy=\"epoch\",\n",
    "    load_best_model_at_end=True,\n",
    "    push_to_hub=False,\n",
    ")\n",
    "\n",
    "# Trainer initialization\n",
    "trainer = Trainer(\n",
    "    model=model,\n",
    "    args=training_args,\n",
    "    train_dataset=tokenized_train,\n",
    "    eval_dataset=tokenized_val,\n",
    "    tokenizer=tokenizer,\n",
    "    data_collator=data_collator,\n",
    "    compute_metrics=compute_metrics,\n",
    ")\n",
    "\n",
    "# print(torch.__version__)\n",
    "# torch.cuda.is_available()"
   ]
  },
  {
   "cell_type": "markdown",
   "metadata": {},
   "source": [
    "e) Model Training and Saving"
   ]
  },
  {
   "cell_type": "code",
   "execution_count": null,
   "metadata": {},
   "outputs": [],
   "source": [
    "trainer.train()\n",
    "model.save_pretrained('/home/nlplab/emma/DM2023-Lab2-Master/my_awesome_model/mammamia')"
   ]
  },
  {
   "cell_type": "markdown",
   "metadata": {},
   "source": [
    "### 2.3 zero-shot-classification"
   ]
  },
  {
   "cell_type": "markdown",
   "metadata": {},
   "source": [
    "Utilizes the pipeline method from Hugging Face Transformers, specifically employing the \"zero-shot-classification\" model.   "
   ]
  },
  {
   "cell_type": "code",
   "execution_count": null,
   "metadata": {},
   "outputs": [],
   "source": [
    "from transformers import pipeline\n",
    "import pandas as pd\n",
    "\n",
    "from tqdm import tqdm\n",
    "\n",
    "pipe = pipeline(\"zero-shot-classification\", model=\"facebook/bart-large-mnli\",device=0)\n",
    "\n",
    "test_df = pd.read_pickle('/home/nlplab/emma/DM2023-Lab2-Master/data/kaggle/prediction_df.pkl').reset_index(drop=True)\n",
    "# sequence_to_classify = \"one day I will see the world\"\n",
    "results = []\n",
    "candidate_labels = ['anticipation', 'sadness', 'fear', 'joy', 'anger', 'trust', 'disgust', 'surprise']\n",
    "\n",
    "for index, row in tqdm(test_df.iterrows(), total=len(test_df)):\n",
    "    sequence_to_classify = row['tweet_text']\n",
    "    result = pipe(sequence_to_classify, candidate_labels)\n",
    "    \n",
    "    predicted_label = result['labels'][0]\n",
    "    score = result['scores'][0]\n",
    "\n",
    "    results.append({'id': row['tweet_id'], 'emotion': predicted_label})\n",
    "    \n",
    "results_df = pd.DataFrame(results)\n",
    "results_df.to_csv('predicted_labels.csv', index=False)\n",
    "# print(result)"
   ]
  },
  {
   "cell_type": "markdown",
   "metadata": {},
   "source": [
    "### 2.4 Multimodal Prediction\n",
    "Performs multimodal prediction using AutoGluon, a framework for automating machine learning tasks."
   ]
  },
  {
   "cell_type": "code",
   "execution_count": null,
   "metadata": {},
   "outputs": [],
   "source": [
    "from autogluon.multimodal import MultiModalPredictor\n",
    "import pandas as pd\n",
    "\n",
    "train_df = pd.read_pickle('/home/nlplab/emma/DM2023-eLab2-Master/data/kaggle/train_df.pkl').reset_index(drop=True)\n",
    "# subsample_size = 100000\n",
    "# train_df= train_df.sample(n=subsample_size, random_state=0)\n",
    "columns_to_remove = ['tweet_id', 'score', 'crawldate', 'tweet_hashtags']\n",
    "train_df = train_df.drop(columns_to_remove, axis=1)\n",
    "\n",
    "# predictor = MultiModalPredictor(label=\"emotion\", eval_matrix=\"acc\")\n",
    "predictor = MultiModalPredictor(label=\"emotion\", validation_metric=\"acc\")\n",
    "\n",
    "predictor.fit(train_df,seed=1314, hyperparameters={\n",
    "    \"model.hf_text.checkpoint_name\":\"roberta-large\",\n",
    "    \"optimization.max_epochs\":3,\n",
    "    \"model.hf_text.insert_sep\":False,\n",
    "})\n",
    "\n",
    "predictor.save(\"/home/nlplab/emma/DM2023-Lab2-Master/autogluon_model\")"
   ]
  },
  {
   "cell_type": "markdown",
   "metadata": {},
   "source": [
    "---\n",
    "## 3. Inferene & Performance\n",
    "### 3.1 TextClassification\n",
    "a) Inference"
   ]
  },
  {
   "cell_type": "code",
   "execution_count": null,
   "metadata": {},
   "outputs": [],
   "source": [
    "from transformers import pipeline\n",
    "import pandas as pd\n",
    "from tqdm import tqdm\n",
    "import torch\n",
    "\n",
    "def label2class(label):\n",
    "  l2c = {\"LABEL_0\": \"anticipation\", \"LABEL_1\": \"sadness\", \"LABEL_2\":\"fear\", \"LABEL_3\":\"joy\", \"LABEL_4\":\"anger\", \"LABEL_5\":\"trust\", \"LABEL_6\":\"disgust\", \"LABEL_7\":\"surprise\"}\n",
    "  return l2c[label]\n",
    "\n",
    "device = torch.device(\"cuda\" if torch.cuda.is_available() else \"cpu\")\n",
    "\n",
    "classifier = pipeline(\"sentiment-analysis\",\n",
    "                      model=\"/home/nlplab/emma/DM2023-Lab2-Master/model/xlm-roberta-base/my_awesome_model_2/checkpoint-79735\",\n",
    "                      device=0 if device.type == 'cuda' else -1)\n",
    "test_df = pd.read_pickle('/home/nlplab/emma/DM2023-Lab2-Master/data/kaggle/prediction_df.pkl').reset_index(drop=True)\n",
    "results = []\n",
    "\n",
    "for index, row in tqdm(test_df.iterrows(), total=len(test_df)):\n",
    "    sequence_to_classify = row['tweet_text']\n",
    "    result = classifier(sequence_to_classify)\n",
    "    \n",
    "    predicted_label = result[0]['label']\n",
    "    predicted_emotion = label2class(predicted_label)\n",
    "    score = result[0]['score']\n",
    "\n",
    "    results.append({'id': row['tweet_id'], 'emotion': predicted_emotion})\n",
    "    \n",
    "results_df = pd.DataFrame(results)\n",
    "results_df.to_csv('xlmroberta_f_labels.csv', index=False)"
   ]
  },
  {
   "cell_type": "markdown",
   "metadata": {},
   "source": [
    "b) Performace  "
   ]
  },
  {
   "cell_type": "markdown",
   "metadata": {},
   "source": [
    "Up: bert-base-uncased  \n",
    "Down: distilbert-base-uncased  "
   ]
  },
  {
   "cell_type": "markdown",
   "metadata": {},
   "source": [
    "![Accuracy1](img/pic1.png)"
   ]
  },
  {
   "cell_type": "markdown",
   "metadata": {},
   "source": [
    "Last one is zero-shot-classification using facebook/bart-large-mnli"
   ]
  },
  {
   "cell_type": "markdown",
   "metadata": {},
   "source": [
    "![Accuracy2](img/pic2.png)"
   ]
  },
  {
   "cell_type": "markdown",
   "metadata": {},
   "source": [
    "### 3.2 Multimodal Prediction"
   ]
  },
  {
   "cell_type": "markdown",
   "metadata": {},
   "source": [
    "The best score achieved was 0.49481 through Multimodal Prediction. "
   ]
  },
  {
   "cell_type": "markdown",
   "metadata": {},
   "source": [
    "![Accuracy3](img/pic3.png)"
   ]
  },
  {
   "cell_type": "markdown",
   "metadata": {},
   "source": [
    "However, later experimentation with the raw, untreated data inputted into the roberta-large model yielded significantly higher performance compared to the balanced-data scenario. "
   ]
  },
  {
   "cell_type": "markdown",
   "metadata": {},
   "source": [
    "This outcome indicates the potential for further exploration and experimentation to enhance the performance, suggesting the existence of more methods to improve the final score."
   ]
  }
 ],
 "metadata": {
  "kernelspec": {
   "display_name": "Python 3 (ipykernel)",
   "language": "python",
   "name": "python3"
  },
  "language_info": {
   "codemirror_mode": {
    "name": "ipython",
    "version": 3
   },
   "file_extension": ".py",
   "mimetype": "text/x-python",
   "name": "python",
   "nbconvert_exporter": "python",
   "pygments_lexer": "ipython3",
   "version": "3.8.10"
  },
  "varInspector": {
   "cols": {
    "lenName": 16,
    "lenType": 16,
    "lenVar": 40
   },
   "kernels_config": {
    "python": {
     "delete_cmd_postfix": "",
     "delete_cmd_prefix": "del ",
     "library": "var_list.py",
     "varRefreshCmd": "print(var_dic_list())"
    },
    "r": {
     "delete_cmd_postfix": ") ",
     "delete_cmd_prefix": "rm(",
     "library": "var_list.r",
     "varRefreshCmd": "cat(var_dic_list()) "
    }
   },
   "types_to_exclude": [
    "module",
    "function",
    "builtin_function_or_method",
    "instance",
    "_Feature"
   ],
   "window_display": false
  }
 },
 "nbformat": 4,
 "nbformat_minor": 2
}
